{
 "cells": [
  {
   "cell_type": "markdown",
   "metadata": {},
   "source": [
    "<center><h1>Business Analytics Final Project</h1></center>\n",
    "<center><h1>Predicting Order Cancelations With GG Taxi Data</h1></center>"
   ]
  },
  {
   "cell_type": "markdown",
   "metadata": {},
   "source": [
    "<center><b>Team Members</b></center>\n",
    "<center>Elen Vardanyan</center>\n",
    "<center>Vahe Karapetyan</center>\n",
    "<center>Lazr Galstyan</center>\n",
    "<br>\n",
    "<center><b>Professor</b></center>\n",
    "<center>Hrant Davtyan</center>"
   ]
  },
  {
   "cell_type": "markdown",
   "metadata": {},
   "source": [
    "## Data Cleaning"
   ]
  },
  {
   "cell_type": "code",
   "execution_count": 1,
   "metadata": {},
   "outputs": [],
   "source": [
    "from IPython.core.interactiveshell import InteractiveShell\n",
    "InteractiveShell.ast_node_interactivity = \"all\""
   ]
  },
  {
   "cell_type": "code",
   "execution_count": 119,
   "metadata": {},
   "outputs": [],
   "source": [
    "import pandas as pd\n",
    "import numpy as np\n",
    "import random\n",
    "import matplotlib.pyplot as plt\n",
    "import seaborn as sns"
   ]
  },
  {
   "cell_type": "code",
   "execution_count": 150,
   "metadata": {
    "collapsed": true
   },
   "outputs": [],
   "source": [
    "data = pd.read_csv('Downloads/GG_Data_All.csv')"
   ]
  },
  {
   "cell_type": "markdown",
   "metadata": {},
   "source": [
    "As the data was exported from strings, the dates in the data were of class 'character'. So we converted it to a Pandas Timestamp object, which also took a lot of time. Here we include the time calculations as well."
   ]
  },
  {
   "cell_type": "code",
   "execution_count": 151,
   "metadata": {},
   "outputs": [
    {
     "name": "stdout",
     "output_type": "stream",
     "text": [
      "CPU times: user 39min 1s, sys: 29.6 s, total: 39min 31s\n",
      "Wall time: 41min 4s\n"
     ]
    }
   ],
   "source": [
    "%%time\n",
    "\n",
    "data['created_at'] =  data['created_at'].map(lambda x: \n",
    "                                            pd.to_datetime(str(x).replace(\"'\", \"\"), errors='coerce') + pd.Timedelta(hours=4))\n",
    "data['accepted_at'] =  data['accepted_at'].map(lambda x: \n",
    "                                            pd.to_datetime(str(x).replace(\"'\", \"\"), errors='coerce') + pd.Timedelta(hours=4))\n",
    "data['arrived_at'] =  data['arrived_at'].map(lambda x: \n",
    "                                            pd.to_datetime(str(x).replace(\"'\", \"\"), errors='coerce') + pd.Timedelta(hours=4))\n",
    "data['processing_at'] =  data['processing_at'].map(lambda x: \n",
    "                                            pd.to_datetime(str(x).replace(\"'\", \"\"), errors='coerce') + pd.Timedelta(hours=4))\n",
    "data['completed_at'] =  data['completed_at'].map(lambda x: \n",
    "                                            pd.to_datetime(str(x).replace(\"'\", \"\"), errors='coerce') + pd.Timedelta(hours=4))\n",
    "data['canceled_at'] =  data['canceled_at'].map(lambda x: \n",
    "                                            pd.to_datetime(str(x).replace(\"'\", \"\"), errors='coerce') + pd.Timedelta(hours=4))"
   ]
  },
  {
   "cell_type": "code",
   "execution_count": 101,
   "metadata": {},
   "outputs": [],
   "source": [
    "data.columns = ['orderId', 'originLng', 'originLat', 'partnerId', 'userId', 'destLng', \n",
    "                'fare', 'distance', 'destLat', 'created_at', 'accepted_at', 'arrived_at', \n",
    "                'processing_at', 'completed_at', 'canceled_at']"
   ]
  },
  {
   "cell_type": "markdown",
   "metadata": {},
   "source": [
    "Judging from the minima and maxima of the _longitude_ and _latitude_ columns, there are outliers. We decided not to use the statistical outlier detection methods, but instead we manually set some minimum and maximum numbers for these features."
   ]
  },
  {
   "cell_type": "code",
   "execution_count": 102,
   "metadata": {},
   "outputs": [
    {
     "data": {
      "text/html": [
       "<div>\n",
       "<style scoped>\n",
       "    .dataframe tbody tr th:only-of-type {\n",
       "        vertical-align: middle;\n",
       "    }\n",
       "\n",
       "    .dataframe tbody tr th {\n",
       "        vertical-align: top;\n",
       "    }\n",
       "\n",
       "    .dataframe thead th {\n",
       "        text-align: right;\n",
       "    }\n",
       "</style>\n",
       "<table border=\"1\" class=\"dataframe\">\n",
       "  <thead>\n",
       "    <tr style=\"text-align: right;\">\n",
       "      <th></th>\n",
       "      <th>originLat</th>\n",
       "      <th>originLng</th>\n",
       "    </tr>\n",
       "  </thead>\n",
       "  <tbody>\n",
       "    <tr>\n",
       "      <th>count</th>\n",
       "      <td>2.661633e+06</td>\n",
       "      <td>2.661633e+06</td>\n",
       "    </tr>\n",
       "    <tr>\n",
       "      <th>mean</th>\n",
       "      <td>4.021891e+01</td>\n",
       "      <td>4.450309e+01</td>\n",
       "    </tr>\n",
       "    <tr>\n",
       "      <th>std</th>\n",
       "      <td>3.077210e-01</td>\n",
       "      <td>6.289281e-01</td>\n",
       "    </tr>\n",
       "    <tr>\n",
       "      <th>min</th>\n",
       "      <td>-8.505090e+01</td>\n",
       "      <td>-1.799990e+02</td>\n",
       "    </tr>\n",
       "    <tr>\n",
       "      <th>25%</th>\n",
       "      <td>4.017840e+01</td>\n",
       "      <td>4.449450e+01</td>\n",
       "    </tr>\n",
       "    <tr>\n",
       "      <th>50%</th>\n",
       "      <td>4.019070e+01</td>\n",
       "      <td>4.451070e+01</td>\n",
       "    </tr>\n",
       "    <tr>\n",
       "      <th>75%</th>\n",
       "      <td>4.020450e+01</td>\n",
       "      <td>4.452230e+01</td>\n",
       "    </tr>\n",
       "    <tr>\n",
       "      <th>max</th>\n",
       "      <td>8.505110e+01</td>\n",
       "      <td>1.799980e+02</td>\n",
       "    </tr>\n",
       "  </tbody>\n",
       "</table>\n",
       "</div>"
      ],
      "text/plain": [
       "          originLat     originLng\n",
       "count  2.661633e+06  2.661633e+06\n",
       "mean   4.021891e+01  4.450309e+01\n",
       "std    3.077210e-01  6.289281e-01\n",
       "min   -8.505090e+01 -1.799990e+02\n",
       "25%    4.017840e+01  4.449450e+01\n",
       "50%    4.019070e+01  4.451070e+01\n",
       "75%    4.020450e+01  4.452230e+01\n",
       "max    8.505110e+01  1.799980e+02"
      ]
     },
     "execution_count": 102,
     "metadata": {},
     "output_type": "execute_result"
    }
   ],
   "source": [
    "data[['originLat', 'originLng']].describe()"
   ]
  },
  {
   "cell_type": "code",
   "execution_count": 103,
   "metadata": {},
   "outputs": [
    {
     "data": {
      "text/plain": [
       "'The shape before: (2661633, 15)'"
      ]
     },
     "execution_count": 103,
     "metadata": {},
     "output_type": "execute_result"
    }
   ],
   "source": [
    "\"The shape before: \" + str(data.shape)"
   ]
  },
  {
   "cell_type": "code",
   "execution_count": 104,
   "metadata": {},
   "outputs": [],
   "source": [
    "data = data[(data['originLat']<42) & (data['originLat']>38) & (data['originLng']<47) & (data['originLng']>43)]"
   ]
  },
  {
   "cell_type": "code",
   "execution_count": 105,
   "metadata": {},
   "outputs": [
    {
     "data": {
      "text/plain": [
       "'The shape after: (2660723, 15)'"
      ]
     },
     "execution_count": 105,
     "metadata": {},
     "output_type": "execute_result"
    }
   ],
   "source": [
    "\"The shape after: \" + str(data.shape)"
   ]
  },
  {
   "cell_type": "code",
   "execution_count": 153,
   "metadata": {},
   "outputs": [],
   "source": [
    "data.to_hdf('gg_all.hdf5', 'gg')"
   ]
  },
  {
   "cell_type": "markdown",
   "metadata": {},
   "source": [
    "## Feature Engineering"
   ]
  },
  {
   "cell_type": "code",
   "execution_count": 196,
   "metadata": {},
   "outputs": [
    {
     "data": {
      "text/html": [
       "<div>\n",
       "<style scoped>\n",
       "    .dataframe tbody tr th:only-of-type {\n",
       "        vertical-align: middle;\n",
       "    }\n",
       "\n",
       "    .dataframe tbody tr th {\n",
       "        vertical-align: top;\n",
       "    }\n",
       "\n",
       "    .dataframe thead th {\n",
       "        text-align: right;\n",
       "    }\n",
       "</style>\n",
       "<table border=\"1\" class=\"dataframe\">\n",
       "  <thead>\n",
       "    <tr style=\"text-align: right;\">\n",
       "      <th></th>\n",
       "      <th>orderId</th>\n",
       "      <th>originLng</th>\n",
       "      <th>originLat</th>\n",
       "      <th>partnerId</th>\n",
       "      <th>userId</th>\n",
       "      <th>destLng</th>\n",
       "      <th>fare</th>\n",
       "      <th>distance</th>\n",
       "      <th>destLat</th>\n",
       "      <th>created_at</th>\n",
       "      <th>accepted_at</th>\n",
       "      <th>arrived_at</th>\n",
       "      <th>processing_at</th>\n",
       "      <th>completed_at</th>\n",
       "      <th>canceled_at</th>\n",
       "    </tr>\n",
       "  </thead>\n",
       "  <tbody>\n",
       "    <tr>\n",
       "      <th>0</th>\n",
       "      <td>330392</td>\n",
       "      <td>44.4419</td>\n",
       "      <td>40.1669</td>\n",
       "      <td>NaN</td>\n",
       "      <td>61715</td>\n",
       "      <td>NaN</td>\n",
       "      <td>NaN</td>\n",
       "      <td>NaN</td>\n",
       "      <td>NaN</td>\n",
       "      <td>2016-01-01 00:00:50</td>\n",
       "      <td>NaT</td>\n",
       "      <td>NaT</td>\n",
       "      <td>NaT</td>\n",
       "      <td>NaT</td>\n",
       "      <td>2016-01-01 00:01:04</td>\n",
       "    </tr>\n",
       "    <tr>\n",
       "      <th>1</th>\n",
       "      <td>330393</td>\n",
       "      <td>44.5266</td>\n",
       "      <td>40.2074</td>\n",
       "      <td>NaN</td>\n",
       "      <td>57214</td>\n",
       "      <td>NaN</td>\n",
       "      <td>NaN</td>\n",
       "      <td>NaN</td>\n",
       "      <td>NaN</td>\n",
       "      <td>2016-01-01 00:01:03</td>\n",
       "      <td>NaT</td>\n",
       "      <td>NaT</td>\n",
       "      <td>NaT</td>\n",
       "      <td>NaT</td>\n",
       "      <td>2016-01-01 00:01:07</td>\n",
       "    </tr>\n",
       "    <tr>\n",
       "      <th>2</th>\n",
       "      <td>330394</td>\n",
       "      <td>44.4708</td>\n",
       "      <td>40.2064</td>\n",
       "      <td>NaN</td>\n",
       "      <td>61840</td>\n",
       "      <td>NaN</td>\n",
       "      <td>NaN</td>\n",
       "      <td>NaN</td>\n",
       "      <td>NaN</td>\n",
       "      <td>2016-01-01 00:01:05</td>\n",
       "      <td>NaT</td>\n",
       "      <td>NaT</td>\n",
       "      <td>NaT</td>\n",
       "      <td>NaT</td>\n",
       "      <td>2016-01-01 00:01:08</td>\n",
       "    </tr>\n",
       "    <tr>\n",
       "      <th>3</th>\n",
       "      <td>330395</td>\n",
       "      <td>44.4391</td>\n",
       "      <td>40.1679</td>\n",
       "      <td>NaN</td>\n",
       "      <td>15026</td>\n",
       "      <td>NaN</td>\n",
       "      <td>NaN</td>\n",
       "      <td>NaN</td>\n",
       "      <td>NaN</td>\n",
       "      <td>2016-01-01 00:01:11</td>\n",
       "      <td>NaT</td>\n",
       "      <td>NaT</td>\n",
       "      <td>NaT</td>\n",
       "      <td>NaT</td>\n",
       "      <td>2016-01-01 00:05:46</td>\n",
       "    </tr>\n",
       "    <tr>\n",
       "      <th>4</th>\n",
       "      <td>330396</td>\n",
       "      <td>44.4887</td>\n",
       "      <td>40.1470</td>\n",
       "      <td>NaN</td>\n",
       "      <td>63831</td>\n",
       "      <td>NaN</td>\n",
       "      <td>NaN</td>\n",
       "      <td>NaN</td>\n",
       "      <td>NaN</td>\n",
       "      <td>2016-01-01 00:01:15</td>\n",
       "      <td>NaT</td>\n",
       "      <td>NaT</td>\n",
       "      <td>NaT</td>\n",
       "      <td>NaT</td>\n",
       "      <td>2016-01-01 00:05:47</td>\n",
       "    </tr>\n",
       "  </tbody>\n",
       "</table>\n",
       "</div>"
      ],
      "text/plain": [
       "   orderId  originLng  originLat  partnerId  userId  destLng  fare  distance  \\\n",
       "0   330392    44.4419    40.1669        NaN   61715      NaN   NaN       NaN   \n",
       "1   330393    44.5266    40.2074        NaN   57214      NaN   NaN       NaN   \n",
       "2   330394    44.4708    40.2064        NaN   61840      NaN   NaN       NaN   \n",
       "3   330395    44.4391    40.1679        NaN   15026      NaN   NaN       NaN   \n",
       "4   330396    44.4887    40.1470        NaN   63831      NaN   NaN       NaN   \n",
       "\n",
       "   destLat          created_at accepted_at arrived_at processing_at  \\\n",
       "0      NaN 2016-01-01 00:00:50         NaT        NaT           NaT   \n",
       "1      NaN 2016-01-01 00:01:03         NaT        NaT           NaT   \n",
       "2      NaN 2016-01-01 00:01:05         NaT        NaT           NaT   \n",
       "3      NaN 2016-01-01 00:01:11         NaT        NaT           NaT   \n",
       "4      NaN 2016-01-01 00:01:15         NaT        NaT           NaT   \n",
       "\n",
       "  completed_at         canceled_at  \n",
       "0          NaT 2016-01-01 00:01:04  \n",
       "1          NaT 2016-01-01 00:01:07  \n",
       "2          NaT 2016-01-01 00:01:08  \n",
       "3          NaT 2016-01-01 00:05:46  \n",
       "4          NaT 2016-01-01 00:05:47  "
      ]
     },
     "execution_count": 196,
     "metadata": {},
     "output_type": "execute_result"
    }
   ],
   "source": [
    "data = pd.read_hdf('gg_all.hdf5', 'gg')\n",
    "data.head()"
   ]
  },
  {
   "cell_type": "markdown",
   "metadata": {},
   "source": [
    "We define a column next_stage_time which shows the seconds from the order creation to either acceptance or cancellation (whichever is available first)."
   ]
  },
  {
   "cell_type": "code",
   "execution_count": 109,
   "metadata": {},
   "outputs": [],
   "source": [
    "data['next_stage_time'] = \"\"\n",
    "\n",
    "accepted_isnull = np.where(data['accepted_at'].isnull())[0]\n",
    "data['next_stage_time'][accepted_isnull] = (data['canceled_at'][accepted_isnull] - data['created_at'][accepted_isnull]).map(lambda x: x.total_seconds())\n",
    "\n",
    "accepted_notnull = np.where(data['accepted_at'].notnull())[0]\n",
    "data['next_stage_time'][accepted_notnull] = (data['accepted_at'][accepted_notnull] - data['created_at'][accepted_notnull]).map(lambda x: x.total_seconds())"
   ]
  },
  {
   "cell_type": "markdown",
   "metadata": {},
   "source": [
    "We also exctract month, weekday, hour and season from the date of the order."
   ]
  },
  {
   "cell_type": "code",
   "execution_count": 110,
   "metadata": {},
   "outputs": [],
   "source": [
    "data['month'] = data['created_at'].map(lambda x: x.month)\n",
    "data['weekday'] = data['created_at'].map(lambda x: x.weekday())\n",
    "data['hour'] =  data['created_at'].map(lambda x: x.hour)\n",
    "data['season'] = data['created_at'].apply(lambda dt: (dt.month%12 + 3)//3)"
   ]
  },
  {
   "cell_type": "markdown",
   "metadata": {},
   "source": [
    "Scaling the numerical variables for better clustering and fitting."
   ]
  },
  {
   "cell_type": "code",
   "execution_count": 111,
   "metadata": {},
   "outputs": [],
   "source": [
    "from sklearn.preprocessing import StandardScaler\n",
    "scaler = StandardScaler()\n",
    "data['originLng'], data['originLat'], data['next_stage_time'] = scaler.fit_transform(data[['originLng', 'originLat', 'next_stage_time']]).T"
   ]
  },
  {
   "cell_type": "markdown",
   "metadata": {},
   "source": [
    "Clustering the (latitude, longitude) pairs into several regions."
   ]
  },
  {
   "cell_type": "code",
   "execution_count": 114,
   "metadata": {},
   "outputs": [],
   "source": [
    "from sklearn.cluster import KMeans\n",
    "kmeans = KMeans(n_clusters=10, init='random', random_state=42)\n",
    "data['region'] = kmeans.fit_predict(data[['originLng', 'originLat']])"
   ]
  },
  {
   "cell_type": "code",
   "execution_count": 115,
   "metadata": {},
   "outputs": [
    {
     "data": {
      "text/plain": [
       "6    1001088\n",
       "8     570557\n",
       "2     294312\n",
       "3     278501\n",
       "4     221341\n",
       "0     192139\n",
       "5      47851\n",
       "1      34106\n",
       "9      18852\n",
       "7       1976\n",
       "Name: region, dtype: int64"
      ]
     },
     "execution_count": 115,
     "metadata": {},
     "output_type": "execute_result"
    }
   ],
   "source": [
    "data['region'].value_counts()"
   ]
  },
  {
   "cell_type": "markdown",
   "metadata": {},
   "source": [
    "Finally, making the column we have to predict."
   ]
  },
  {
   "cell_type": "code",
   "execution_count": 116,
   "metadata": {},
   "outputs": [
    {
     "data": {
      "text/plain": [
       "False    0.673516\n",
       "True     0.326484\n",
       "Name: canceled, dtype: float64"
      ]
     },
     "execution_count": 116,
     "metadata": {},
     "output_type": "execute_result"
    }
   ],
   "source": [
    "data['canceled'] = data['canceled_at'].notnull()\n",
    "data['canceled'].value_counts() / data.shape[0]"
   ]
  },
  {
   "cell_type": "markdown",
   "metadata": {},
   "source": [
    "Dropping the values not needed for the prediction."
   ]
  },
  {
   "cell_type": "code",
   "execution_count": 207,
   "metadata": {},
   "outputs": [
    {
     "data": {
      "text/html": [
       "<div>\n",
       "<style scoped>\n",
       "    .dataframe tbody tr th:only-of-type {\n",
       "        vertical-align: middle;\n",
       "    }\n",
       "\n",
       "    .dataframe tbody tr th {\n",
       "        vertical-align: top;\n",
       "    }\n",
       "\n",
       "    .dataframe thead th {\n",
       "        text-align: right;\n",
       "    }\n",
       "</style>\n",
       "<table border=\"1\" class=\"dataframe\">\n",
       "  <thead>\n",
       "    <tr style=\"text-align: right;\">\n",
       "      <th></th>\n",
       "      <th>originLng</th>\n",
       "      <th>originLat</th>\n",
       "      <th>next_stage_time</th>\n",
       "      <th>month</th>\n",
       "      <th>weekday</th>\n",
       "      <th>hour</th>\n",
       "      <th>season</th>\n",
       "      <th>region</th>\n",
       "      <th>canceled</th>\n",
       "    </tr>\n",
       "  </thead>\n",
       "  <tbody>\n",
       "    <tr>\n",
       "      <th>0</th>\n",
       "      <td>-0.623732</td>\n",
       "      <td>-0.308702</td>\n",
       "      <td>-0.018727</td>\n",
       "      <td>Jan</td>\n",
       "      <td>Fri</td>\n",
       "      <td>0</td>\n",
       "      <td>Winter</td>\n",
       "      <td>0</td>\n",
       "      <td>True</td>\n",
       "    </tr>\n",
       "    <tr>\n",
       "      <th>1</th>\n",
       "      <td>0.206560</td>\n",
       "      <td>-0.067471</td>\n",
       "      <td>-0.022022</td>\n",
       "      <td>Jan</td>\n",
       "      <td>Fri</td>\n",
       "      <td>0</td>\n",
       "      <td>Winter</td>\n",
       "      <td>3</td>\n",
       "      <td>True</td>\n",
       "    </tr>\n",
       "    <tr>\n",
       "      <th>2</th>\n",
       "      <td>-0.340432</td>\n",
       "      <td>-0.073427</td>\n",
       "      <td>-0.022351</td>\n",
       "      <td>Jan</td>\n",
       "      <td>Fri</td>\n",
       "      <td>0</td>\n",
       "      <td>Winter</td>\n",
       "      <td>8</td>\n",
       "      <td>True</td>\n",
       "    </tr>\n",
       "    <tr>\n",
       "      <th>3</th>\n",
       "      <td>-0.651179</td>\n",
       "      <td>-0.302746</td>\n",
       "      <td>0.067273</td>\n",
       "      <td>Jan</td>\n",
       "      <td>Fri</td>\n",
       "      <td>0</td>\n",
       "      <td>Winter</td>\n",
       "      <td>0</td>\n",
       "      <td>True</td>\n",
       "    </tr>\n",
       "    <tr>\n",
       "      <th>4</th>\n",
       "      <td>-0.164963</td>\n",
       "      <td>-0.427233</td>\n",
       "      <td>0.066284</td>\n",
       "      <td>Jan</td>\n",
       "      <td>Fri</td>\n",
       "      <td>0</td>\n",
       "      <td>Winter</td>\n",
       "      <td>2</td>\n",
       "      <td>True</td>\n",
       "    </tr>\n",
       "  </tbody>\n",
       "</table>\n",
       "</div>"
      ],
      "text/plain": [
       "   originLng  originLat  next_stage_time month weekday  hour  season  region  \\\n",
       "0  -0.623732  -0.308702        -0.018727   Jan     Fri     0  Winter       0   \n",
       "1   0.206560  -0.067471        -0.022022   Jan     Fri     0  Winter       3   \n",
       "2  -0.340432  -0.073427        -0.022351   Jan     Fri     0  Winter       8   \n",
       "3  -0.651179  -0.302746         0.067273   Jan     Fri     0  Winter       0   \n",
       "4  -0.164963  -0.427233         0.066284   Jan     Fri     0  Winter       2   \n",
       "\n",
       "   canceled  \n",
       "0      True  \n",
       "1      True  \n",
       "2      True  \n",
       "3      True  \n",
       "4      True  "
      ]
     },
     "execution_count": 207,
     "metadata": {},
     "output_type": "execute_result"
    }
   ],
   "source": [
    "gg = data.drop(['userId', 'created_at', 'destLng', 'fare', 'distance', 'destLat', 'accepted_at', 'arrived_at', 'processing_at', 'completed_at', 'orderId', 'partnerId', 'canceled_at'], axis=1)\n",
    "gg.head()"
   ]
  },
  {
   "cell_type": "code",
   "execution_count": 122,
   "metadata": {},
   "outputs": [
    {
     "data": {
      "text/plain": [
       "<matplotlib.axes._subplots.AxesSubplot at 0x7f1c98690e10>"
      ]
     },
     "execution_count": 122,
     "metadata": {},
     "output_type": "execute_result"
    },
    {
     "data": {
      "image/png": "[encoded data removed]",
      "text/plain": [
       "<Figure size 432x288 with 2 Axes>"
      ]
     },
     "metadata": {},
     "output_type": "display_data"
    }
   ],
   "source": [
    "sns.heatmap(gg.corr())"
   ]
  },
  {
   "cell_type": "markdown",
   "metadata": {},
   "source": [
    "Replacing the date numbers to strings will be helpful when we construct dummies."
   ]
  },
  {
   "cell_type": "code",
   "execution_count": 123,
   "metadata": {},
   "outputs": [],
   "source": [
    "weekday = {0:\"Mon\", 1:\"Tue\", 2:\"Wed\", 3:\"Thu\", 4:\"Fri\", 5:\"Sat\", 6:\"Sun\"}\n",
    "season = {1:\"Winter\", 2:\"Spring\", 3:\"Summer\", 4:\"Fall\"}\n",
    "month = {1:\"Jan\", 2:\"Feb\", 3:\"Mar\", 4:\"Apr\", 5:\"May\", 6:\"Jun\", 7:\"Jul\", 8:\"Aug\", 9:\"Sep\", 10:\"Oct\", 11:\"Nov\", 12:\"Dec\"}\n",
    "\n",
    "\n",
    "gg['weekday'] = gg['weekday'].replace(weekday)\n",
    "gg['season'] = gg['season'].replace(season)\n",
    "gg['month'] = gg['month'].replace(month)"
   ]
  },
  {
   "cell_type": "code",
   "execution_count": 155,
   "metadata": {},
   "outputs": [
    {
     "name": "stdout",
     "output_type": "stream",
     "text": [
      "<class 'pandas.core.frame.DataFrame'>\n",
      "RangeIndex: 2660723 entries, 0 to 2660722\n",
      "Data columns (total 9 columns):\n",
      "originLng          float64\n",
      "originLat          float64\n",
      "next_stage_time    float64\n",
      "month              object\n",
      "weekday            object\n",
      "hour               int64\n",
      "season             object\n",
      "region             int64\n",
      "canceled           bool\n",
      "dtypes: bool(1), float64(3), int64(2), object(3)\n",
      "memory usage: 164.9+ MB\n"
     ]
    }
   ],
   "source": [
    "gg.info()"
   ]
  },
  {
   "cell_type": "code",
   "execution_count": 156,
   "metadata": {},
   "outputs": [],
   "source": [
    "gg.to_csv(\"final_data.csv\", index=False)"
   ]
  },
  {
   "cell_type": "markdown",
   "metadata": {},
   "source": [
    "## Visualizations"
   ]
  },
  {
   "cell_type": "code",
   "execution_count": 125,
   "metadata": {},
   "outputs": [
    {
     "data": {
      "text/plain": [
       "<matplotlib.axes._subplots.AxesSubplot at 0x7f1c745d0dd0>"
      ]
     },
     "execution_count": 125,
     "metadata": {},
     "output_type": "execute_result"
    },
    {
     "data": {
      "text/plain": [
       "Text(0.5,1,'Distribution of locations of canceled orders')"
      ]
     },
     "execution_count": 125,
     "metadata": {},
     "output_type": "execute_result"
    },
    {
     "data": {
      "image/png": "[encoded data removed]",
      "text/plain": [
       "<Figure size 432x288 with 1 Axes>"
      ]
     },
     "metadata": {},
     "output_type": "display_data"
    }
   ],
   "source": [
    "sns.regplot(x=gg[\"originLng\"], y=gg[\"originLat\"], fit_reg=False)\n",
    "plt.title(\"Distribution of locations of canceled orders\")\n",
    "plt.show()"
   ]
  },
  {
   "cell_type": "code",
   "execution_count": 126,
   "metadata": {},
   "outputs": [
    {
     "data": {
      "text/plain": [
       "<matplotlib.axes._subplots.AxesSubplot at 0x7f1ce0a1f490>"
      ]
     },
     "execution_count": 126,
     "metadata": {},
     "output_type": "execute_result"
    },
    {
     "data": {
      "text/plain": [
       "Text(0.5,1,'Percentage of canceled orders by Weekday')"
      ]
     },
     "execution_count": 126,
     "metadata": {},
     "output_type": "execute_result"
    },
    {
     "data": {
      "image/png": "[encoded data removed]",
      "text/plain": [
       "<Figure size 432x288 with 1 Axes>"
      ]
     },
     "metadata": {},
     "output_type": "display_data"
    }
   ],
   "source": [
    "sns.barplot(x=gg.canceled*100, y=gg.weekday)\n",
    "plt.title(\"Percentage of canceled orders by Weekday\")\n",
    "plt.show()"
   ]
  },
  {
   "cell_type": "code",
   "execution_count": 127,
   "metadata": {},
   "outputs": [
    {
     "data": {
      "text/plain": [
       "<matplotlib.axes._subplots.AxesSubplot at 0x7f1c98666590>"
      ]
     },
     "execution_count": 127,
     "metadata": {},
     "output_type": "execute_result"
    },
    {
     "data": {
      "text/plain": [
       "Text(0.5,1,'Percentage of cancelled orders by Month')"
      ]
     },
     "execution_count": 127,
     "metadata": {},
     "output_type": "execute_result"
    },
    {
     "data": {
      "image/png": "[encoded data removed]",
      "text/plain": [
       "<Figure size 432x288 with 1 Axes>"
      ]
     },
     "metadata": {},
     "output_type": "display_data"
    }
   ],
   "source": [
    "sns.barplot(x=gg.canceled*100, y=gg.month)\n",
    "plt.title(\"Percentage of cancelled orders by Month\")\n",
    "plt.show()"
   ]
  },
  {
   "cell_type": "code",
   "execution_count": 129,
   "metadata": {},
   "outputs": [
    {
     "data": {
      "text/plain": [
       "<matplotlib.axes._subplots.AxesSubplot at 0x7f1ce0a80e50>"
      ]
     },
     "execution_count": 129,
     "metadata": {},
     "output_type": "execute_result"
    },
    {
     "data": {
      "text/plain": [
       "Text(0.5,1,'Percentage of cancelled orders by season')"
      ]
     },
     "execution_count": 129,
     "metadata": {},
     "output_type": "execute_result"
    },
    {
     "data": {
      "image/png": "[encoded data removed]",
      "text/plain": [
       "<Figure size 432x288 with 1 Axes>"
      ]
     },
     "metadata": {},
     "output_type": "display_data"
    }
   ],
   "source": [
    "sns.barplot(x=gg.canceled*100, y=gg.season)\n",
    "plt.title(\"Percentage of cancelled orders by season\")\n",
    "plt.show()"
   ]
  },
  {
   "cell_type": "markdown",
   "metadata": {},
   "source": [
    "## Predictions"
   ]
  },
  {
   "cell_type": "markdown",
   "metadata": {},
   "source": [
    "Creating Training and Test sets."
   ]
  },
  {
   "cell_type": "code",
   "execution_count": 131,
   "metadata": {},
   "outputs": [],
   "source": [
    "from sklearn.model_selection import train_test_split\n",
    "from sklearn.metrics import accuracy_score, roc_auc_score, classification_report"
   ]
  },
  {
   "cell_type": "code",
   "execution_count": 132,
   "metadata": {},
   "outputs": [
    {
     "data": {
      "text/plain": [
       "'Train baseline accuracy: 0.6761664347629303'"
      ]
     },
     "execution_count": 132,
     "metadata": {},
     "output_type": "execute_result"
    },
    {
     "data": {
      "text/plain": [
       "'Test baseline accuracy:  0.6770424404941133'"
      ]
     },
     "execution_count": 132,
     "metadata": {},
     "output_type": "execute_result"
    }
   ],
   "source": [
    "\"Train baseline accuracy: \" + str(accuracy_score(y_train, np.zeros(len(y_train))))\n",
    "\"Test baseline accuracy:  \" + str(accuracy_score(y_test, np.zeros(len(y_test))))"
   ]
  },
  {
   "cell_type": "code",
   "execution_count": 133,
   "metadata": {},
   "outputs": [
    {
     "data": {
      "text/plain": [
       "'Train baseline AUC score: 0.5'"
      ]
     },
     "execution_count": 133,
     "metadata": {},
     "output_type": "execute_result"
    },
    {
     "data": {
      "text/plain": [
       "'Test baseline AUC score:  0.5'"
      ]
     },
     "execution_count": 133,
     "metadata": {},
     "output_type": "execute_result"
    }
   ],
   "source": [
    "\"Train baseline AUC score: \" + str(roc_auc_score(y_train, np.zeros(len(y_train))))\n",
    "\"Test baseline AUC score:  \" + str(roc_auc_score(y_test, np.zeros(len(y_test))))"
   ]
  },
  {
   "cell_type": "markdown",
   "metadata": {},
   "source": [
    "All of the models we used need numerical inputs, so we convert the categorical variables to dummies."
   ]
  },
  {
   "cell_type": "code",
   "execution_count": 167,
   "metadata": {},
   "outputs": [],
   "source": [
    "months = pd.get_dummies(gg['month'])\n",
    "weekdays = pd.get_dummies(gg['weekday'])\n",
    "seasons = pd.get_dummies(gg['season'])\n",
    "regions = pd.get_dummies(gg['region'])\n",
    "\n",
    "gg = gg.drop(['month', 'weekday', 'season', 'region'], axis=1)\n",
    "gg = gg.join(months).join(weekdays).join(seasons).join(regions)"
   ]
  },
  {
   "cell_type": "code",
   "execution_count": 168,
   "metadata": {},
   "outputs": [],
   "source": [
    "X = gg.drop('canceled', axis=1)\n",
    "y = gg['canceled']\n",
    "\n",
    "X_train, X_test, y_train, y_test = train_test_split(X, y, test_size=0.2, random_state=42)"
   ]
  },
  {
   "cell_type": "code",
   "execution_count": 169,
   "metadata": {},
   "outputs": [
    {
     "data": {
      "text/plain": [
       "False    1433228\n",
       "True      695350\n",
       "Name: canceled, dtype: int64"
      ]
     },
     "execution_count": 169,
     "metadata": {},
     "output_type": "execute_result"
    },
    {
     "data": {
      "text/plain": [
       "False    358811\n",
       "True     173334\n",
       "Name: canceled, dtype: int64"
      ]
     },
     "execution_count": 169,
     "metadata": {},
     "output_type": "execute_result"
    }
   ],
   "source": [
    "y_train.value_counts()\n",
    "y_test.value_counts()"
   ]
  },
  {
   "cell_type": "markdown",
   "metadata": {},
   "source": [
    "### Logistic Regression"
   ]
  },
  {
   "cell_type": "code",
   "execution_count": 137,
   "metadata": {},
   "outputs": [],
   "source": [
    "from sklearn.linear_model import LogisticRegression"
   ]
  },
  {
   "cell_type": "code",
   "execution_count": 170,
   "metadata": {},
   "outputs": [
    {
     "data": {
      "text/plain": [
       "LogisticRegression(C=1.0, class_weight=None, dual=False, fit_intercept=True,\n",
       "          intercept_scaling=1, max_iter=100, multi_class='ovr', n_jobs=1,\n",
       "          penalty='l2', random_state=None, solver='liblinear', tol=0.0001,\n",
       "          verbose=0, warm_start=False)"
      ]
     },
     "execution_count": 170,
     "metadata": {},
     "output_type": "execute_result"
    }
   ],
   "source": [
    "logreg = LogisticRegression()\n",
    "logreg.fit(X_train, y_train)"
   ]
  },
  {
   "cell_type": "code",
   "execution_count": 171,
   "metadata": {},
   "outputs": [
    {
     "data": {
      "text/plain": [
       "'Accuracy for training set is 0.7639043530469638'"
      ]
     },
     "execution_count": 171,
     "metadata": {},
     "output_type": "execute_result"
    },
    {
     "data": {
      "text/plain": [
       "'Accuracy for test set is 0.7636903475556475'"
      ]
     },
     "execution_count": 171,
     "metadata": {},
     "output_type": "execute_result"
    }
   ],
   "source": [
    "\"Accuracy for training set is \" + str(logreg.score(X_train, y_train))\n",
    "\"Accuracy for test set is \" + str(logreg.score(X_test, y_test))"
   ]
  },
  {
   "cell_type": "code",
   "execution_count": 173,
   "metadata": {},
   "outputs": [
    {
     "data": {
      "text/plain": [
       "'AUC for the training set is 0.6699314721959811'"
      ]
     },
     "execution_count": 173,
     "metadata": {},
     "output_type": "execute_result"
    },
    {
     "data": {
      "text/plain": [
       "'AUC for the test set is 0.6690620753004926'"
      ]
     },
     "execution_count": 173,
     "metadata": {},
     "output_type": "execute_result"
    }
   ],
   "source": [
    "\"AUC for the training set is \" + str(roc_auc_score(y_train, logreg.predict(X_train)))\n",
    "\"AUC for the test set is \" + str(roc_auc_score(y_test, logreg.predict(X_test)))"
   ]
  },
  {
   "cell_type": "code",
   "execution_count": 174,
   "metadata": {},
   "outputs": [
    {
     "name": "stdout",
     "output_type": "stream",
     "text": [
      "             precision    recall  f1-score   support\n",
      "\n",
      "      False       0.76      0.94      0.84    358811\n",
      "       True       0.76      0.40      0.52    173334\n",
      "\n",
      "avg / total       0.76      0.76      0.74    532145\n",
      "\n"
     ]
    }
   ],
   "source": [
    "print(classification_report(y_test, logreg.predict(X_test)))"
   ]
  },
  {
   "cell_type": "markdown",
   "metadata": {},
   "source": [
    "### Gradient Boosting"
   ]
  },
  {
   "cell_type": "code",
   "execution_count": 175,
   "metadata": {},
   "outputs": [],
   "source": [
    "from sklearn.ensemble import GradientBoostingClassifier"
   ]
  },
  {
   "cell_type": "code",
   "execution_count": 176,
   "metadata": {},
   "outputs": [
    {
     "data": {
      "text/plain": [
       "GradientBoostingClassifier(criterion='friedman_mse', init=None,\n",
       "              learning_rate=0.1, loss='deviance', max_depth=10,\n",
       "              max_features=None, max_leaf_nodes=None,\n",
       "              min_impurity_decrease=0.0, min_impurity_split=None,\n",
       "              min_samples_leaf=1, min_samples_split=2,\n",
       "              min_weight_fraction_leaf=0.0, n_estimators=100,\n",
       "              presort='auto', random_state=42, subsample=1.0, verbose=0,\n",
       "              warm_start=False)"
      ]
     },
     "execution_count": 176,
     "metadata": {},
     "output_type": "execute_result"
    }
   ],
   "source": [
    "xgb = GradientBoostingClassifier(max_depth=10, random_state=42)\n",
    "xgb.fit(X_train, y_train)"
   ]
  },
  {
   "cell_type": "code",
   "execution_count": 177,
   "metadata": {},
   "outputs": [
    {
     "data": {
      "text/plain": [
       "'Accuracy for training set is 0.8346774231435259'"
      ]
     },
     "execution_count": 177,
     "metadata": {},
     "output_type": "execute_result"
    },
    {
     "data": {
      "text/plain": [
       "'Accuracy for test set is 0.8260135865224704'"
      ]
     },
     "execution_count": 177,
     "metadata": {},
     "output_type": "execute_result"
    }
   ],
   "source": [
    "\"Accuracy for training set is \" + str(xgb.score(X_train, y_train))\n",
    "\"Accuracy for test set is \" + str(xgb.score(X_test, y_test))"
   ]
  },
  {
   "cell_type": "code",
   "execution_count": 178,
   "metadata": {},
   "outputs": [
    {
     "data": {
      "text/plain": [
       "'AUC for the training set is 0.8109272943981547'"
      ]
     },
     "execution_count": 178,
     "metadata": {},
     "output_type": "execute_result"
    },
    {
     "data": {
      "text/plain": [
       "'AUC for the test set is 0.801104187320767'"
      ]
     },
     "execution_count": 178,
     "metadata": {},
     "output_type": "execute_result"
    }
   ],
   "source": [
    "\"AUC for the training set is \" + str(roc_auc_score(y_train, xgb.predict(X_train)))\n",
    "\"AUC for the test set is \" + str(roc_auc_score(y_test, xgb.predict(X_test)))"
   ]
  },
  {
   "cell_type": "code",
   "execution_count": 179,
   "metadata": {},
   "outputs": [
    {
     "name": "stdout",
     "output_type": "stream",
     "text": [
      "             precision    recall  f1-score   support\n",
      "\n",
      "      False       0.87      0.87      0.87    358811\n",
      "       True       0.73      0.73      0.73    173334\n",
      "\n",
      "avg / total       0.83      0.83      0.83    532145\n",
      "\n"
     ]
    }
   ],
   "source": [
    "print(classification_report(y_test, xgb.predict(X_test)))"
   ]
  },
  {
   "cell_type": "markdown",
   "metadata": {},
   "source": [
    "## Neural Network"
   ]
  },
  {
   "cell_type": "code",
   "execution_count": 197,
   "metadata": {},
   "outputs": [
    {
     "name": "stdout",
     "output_type": "stream",
     "text": [
      "Train on 1915720 samples, validate on 212858 samples\n",
      "Epoch 1/20\n",
      "1915720/1915720 [==============================] - 108s 56us/step - loss: 0.4526 - acc: 0.7963 - val_loss: 0.4342 - val_acc: 0.8071\n",
      "Epoch 2/20\n",
      "1915720/1915720 [==============================] - 109s 57us/step - loss: 0.4332 - acc: 0.8079 - val_loss: 0.4441 - val_acc: 0.8016\n",
      "Epoch 3/20\n",
      "1915720/1915720 [==============================] - 108s 57us/step - loss: 0.4295 - acc: 0.8093 - val_loss: 0.4273 - val_acc: 0.8105\n",
      "Epoch 4/20\n",
      "1915720/1915720 [==============================] - 109s 57us/step - loss: 0.4273 - acc: 0.8105 - val_loss: 0.4339 - val_acc: 0.8072\n",
      "Epoch 5/20\n",
      "1915720/1915720 [==============================] - 109s 57us/step - loss: 0.4259 - acc: 0.8111 - val_loss: 0.4261 - val_acc: 0.8110\n",
      "Epoch 6/20\n",
      "1915720/1915720 [==============================] - 109s 57us/step - loss: 0.4250 - acc: 0.8115 - val_loss: 0.4260 - val_acc: 0.8104\n",
      "Epoch 7/20\n",
      "1915720/1915720 [==============================] - 110s 57us/step - loss: 0.4244 - acc: 0.8119 - val_loss: 0.4243 - val_acc: 0.8121\n",
      "Epoch 8/20\n",
      "1915720/1915720 [==============================] - 110s 57us/step - loss: 0.4237 - acc: 0.8122 - val_loss: 0.4397 - val_acc: 0.8038\n",
      "Epoch 9/20\n",
      "1915720/1915720 [==============================] - 109s 57us/step - loss: 0.4232 - acc: 0.8125 - val_loss: 0.4264 - val_acc: 0.8109\n",
      "Epoch 10/20\n",
      "1915720/1915720 [==============================] - 109s 57us/step - loss: 0.4231 - acc: 0.8123 - val_loss: 0.4396 - val_acc: 0.8013\n",
      "Epoch 11/20\n",
      "1915720/1915720 [==============================] - 110s 57us/step - loss: 0.4227 - acc: 0.8128 - val_loss: 0.4253 - val_acc: 0.8112\n"
     ]
    }
   ],
   "source": [
    "import keras\n",
    "from keras.layers import Dense, Dropout\n",
    "from keras.models import Sequential\n",
    "from keras.callbacks import EarlyStopping, TensorBoard\n",
    "\n",
    "n_cols = X_train.shape[1]\n",
    "\n",
    "model = Sequential()\n",
    "model.add(Dense(50, activation='relu', input_shape=(n_cols,)))\n",
    "model.add(Dense(32, activation='tanh'))\n",
    "model.add(Dense(2, activation='softmax'))\n",
    "\n",
    "model.compile(optimizer='adam', loss='sparse_categorical_crossentropy', metrics=['accuracy'])\n",
    "\n",
    "model_training = model.fit(X_train, y_train, validation_split=0.1, epochs=20, callbacks=[EarlyStopping(patience=4), TensorBoard()])"
   ]
  },
  {
   "cell_type": "code",
   "execution_count": 199,
   "metadata": {},
   "outputs": [
    {
     "data": {
      "text/plain": [
       "'Accuracy for train set is 0.8131639996279206'"
      ]
     },
     "execution_count": 199,
     "metadata": {},
     "output_type": "execute_result"
    },
    {
     "data": {
      "text/plain": [
       "'AUC for the train set is 0.7880649968359897'"
      ]
     },
     "execution_count": 199,
     "metadata": {},
     "output_type": "execute_result"
    }
   ],
   "source": [
    "pred_train = model.predict_classes(X_train)\n",
    "\"Accuracy for train set is \" + str(accuracy_score(y_train, pred_train))\n",
    "\"AUC for the train set is \" + str(roc_auc_score(y_train, pred_train))"
   ]
  },
  {
   "cell_type": "code",
   "execution_count": 200,
   "metadata": {},
   "outputs": [
    {
     "data": {
      "text/plain": [
       "'Accuracy for test set is 0.8117054562196394'"
      ]
     },
     "execution_count": 200,
     "metadata": {},
     "output_type": "execute_result"
    },
    {
     "data": {
      "text/plain": [
       "'AUC for the test set is 0.7859835278554017'"
      ]
     },
     "execution_count": 200,
     "metadata": {},
     "output_type": "execute_result"
    }
   ],
   "source": [
    "pred_test = model.predict_classes(X_test)\n",
    "\"Accuracy for test set is \" + str(accuracy_score(y_test, pred_test))\n",
    "\"AUC for the test set is \" + str(roc_auc_score(y_test, pred_test))"
   ]
  }
 ],
 "metadata": {
  "kernelspec": {
   "display_name": "Python 2",
   "language": "python",
   "name": "python2"
  },
  "language_info": {
   "codemirror_mode": {
    "name": "ipython",
    "version": 2
   },
   "file_extension": ".py",
   "mimetype": "text/x-python",
   "name": "python",
   "nbconvert_exporter": "python",
   "pygments_lexer": "ipython2",
   "version": "2.7.12"
  }
 },
 "nbformat": 4,
 "nbformat_minor": 2
}
